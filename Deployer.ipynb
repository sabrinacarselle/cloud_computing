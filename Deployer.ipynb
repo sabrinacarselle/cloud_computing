{
 "cells": [
  {
   "cell_type": "code",
   "execution_count": 49,
   "metadata": {},
   "outputs": [
    {
     "name": "stdout",
     "output_type": "stream",
     "text": [
      "Deploying AppInsights with name bankruptinsights345e99cf.\n",
      "Deployed AppInsights with name bankruptinsights345e99cf. Took 6.61 seconds.\n",
      "Deploying KeyVault with name bankruptkeyvault6d7f4f36.\n",
      "Deploying StorageAccount with name bankruptstorage956a13d0c.\n",
      "Deployed KeyVault with name bankruptkeyvault6d7f4f36. Took 23.9 seconds.\n",
      "Deploying Workspace with name Bankruptancy_test.\n",
      "Deployed StorageAccount with name bankruptstorage956a13d0c. Took 38.19 seconds.\n",
      "Deployed Workspace with name Bankruptancy_test. Took 42.98 seconds.\n"
     ]
    }
   ],
   "source": [
    "\n",
    "#GETTING MY ID:\n",
    "import json\n",
    "\n",
    "id = open('id.json', 'r')\n",
    "mi = json.load(id)\n",
    "azure_id = mi['azure_id']\n",
    "\n",
    "from azureml.core import Workspace\n",
    "\n",
    "ws = Workspace.create(name=\"Bankruptancy_test\",\n",
    "                      subscription_id = azure_id,\n",
    "                      resource_group = \"modelo\",\n",
    "                      location = \"centralindia\")"
   ]
  },
  {
   "cell_type": "code",
   "execution_count": 50,
   "metadata": {},
   "outputs": [
    {
     "name": "stdout",
     "output_type": "stream",
     "text": [
      "Registering model model\n"
     ]
    }
   ],
   "source": [
    "from azureml.core.model import Model\n",
    "\n",
    "mname = \"model\"\n",
    "registered_model = Model.register(model_path=\"model.pkl\",\n",
    "                                  model_name=mname,\n",
    "                                  workspace=ws)"
   ]
  },
  {
   "cell_type": "code",
   "execution_count": 51,
   "metadata": {},
   "outputs": [],
   "source": [
    "################ score.py ###################\n",
    "\n",
    "scorepy = \"\"\"\n",
    "import json\n",
    "import joblib\n",
    "import pandas as pd\n",
    "from azureml.core.model import Model\n",
    "\n",
    "def init():\n",
    "    global model\n",
    "    # Replace 'model.pkl' with the actual name of your registered model file if different\n",
    "    model_path = Model.get_model_path('model')\n",
    "    model = joblib.load(model_path)\n",
    "\n",
    "def run(raw_data):\n",
    "    try:\n",
    "        # Load the JSON input and convert to a DataFrame\n",
    "        input_data = json.loads(raw_data)\n",
    "        data = pd.DataFrame(input_data['data'])\n",
    "        \n",
    "        # Define the expected feature columns (ensure these match the training features)\n",
    "        feature_columns = [\n",
    "            ' ROA(C) before interest and depreciation before interest',\n",
    "            ' ROA(A) before interest and % after tax',\n",
    "            ' ROA(B) before interest and depreciation after tax',\n",
    "            ' Net Value Per Share (B)',\n",
    "            ' Net Value Per Share (A)',\n",
    "            ' Net Value Per Share (C)',\n",
    "            ' Persistent EPS in the Last Four Seasons',\n",
    "            ' Operating Profit Per Share (Yuan ¥)',\n",
    "            ' Per Share Net profit before tax (Yuan ¥)',\n",
    "            ' Debt ratio %',\n",
    "            ' Net worth/Assets',\n",
    "            ' Borrowing dependency',\n",
    "            ' Operating profit/Paid-in capital',\n",
    "            ' Inventory and accounts receivable/Net value',\n",
    "            ' Working Capital to Total Assets',\n",
    "            ' Current Liability to Assets',\n",
    "            ' Working Capital/Equity',\n",
    "            ' Current Liabilities/Equity',\n",
    "            ' Retained Earnings to Total Assets',\n",
    "            ' Total expense/Assets',\n",
    "            ' Current Liability to Equity',\n",
    "            ' Equity to Long-term Liability',\n",
    "            ' Current Liability to Current Assets',\n",
    "            ' Liability-Assets Flag',\n",
    "            ' Net Income to Total Assets',\n",
    "            \" Net Income to Stockholder's Equity\",\n",
    "            ' Liability to Equity'\n",
    "        ]\n",
    "        \n",
    "        # Select only the features needed for prediction\n",
    "        data_features = data[feature_columns]\n",
    "        \n",
    "        # Make predictions with the loaded model\n",
    "        result = model.predict(data_features).tolist()\n",
    "        return json.dumps(result)\n",
    "    except Exception as e:\n",
    "        return json.dumps({\"error\": str(e)})\n",
    "\"\"\"\n",
    "\n",
    "file_score = open(\"score.py\", \"w\")\n",
    "file_score.write(scorepy)\n",
    "file_score.close()"
   ]
  },
  {
   "cell_type": "code",
   "execution_count": 52,
   "metadata": {},
   "outputs": [
    {
     "name": "stderr",
     "output_type": "stream",
     "text": [
      "/var/folders/b6/wkc18d0n5vn3fsnd8xjknlch0000gp/T/ipykernel_31642/1741792357.py:18: FutureWarning: azureml.core.model:\n",
      "To leverage new model deployment capabilities, AzureML recommends using CLI/SDK v2 to deploy models as online endpoint, \n",
      "please refer to respective documentations \n",
      "https://docs.microsoft.com/azure/machine-learning/how-to-deploy-managed-online-endpoints /\n",
      "https://docs.microsoft.com/azure/machine-learning/how-to-attach-kubernetes-anywhere \n",
      "For more information on migration, see https://aka.ms/acimoemigration \n",
      "To disable CLI/SDK v1 deprecation warning set AZUREML_LOG_DEPRECATION_WARNING_ENABLED to 'False'\n",
      "  service = Model.deploy(workspace=ws,\n"
     ]
    }
   ],
   "source": [
    "## STEP 2: Inference configuration: the blueprints for the German carpenter about how to build your furniture.\n",
    "\n",
    "from azureml.core.environment import Environment\n",
    "virtual_env = Environment(\"env-4-housing\")\n",
    "\n",
    "from azureml.core.conda_dependencies import CondaDependencies\n",
    "virtual_env.python.conda_dependencies = CondaDependencies.create(conda_packages=['pandas','scikit-learn','numpy','joblib']) ## Asegúrense de coordinarse con el departamento de modelos para incluir los paquetes correctos. Si no, BOOM!\n",
    "\n",
    "\n",
    "from azureml.core.model import InferenceConfig\n",
    "from azureml.core.webservice import AciWebservice\n",
    "inference_config = InferenceConfig(\n",
    "                                environment=virtual_env,\n",
    "                                entry_script=\"score.py\",\n",
    "                                )\n",
    "aci_config = AciWebservice.deploy_configuration(cpu_cores=0.5, memory_gb=1) ## ASEGÚRENSE DE ASIGNAR SUFICIENTE MADERA PARA SUS MUEBLES.\n",
    "\n",
    "service = Model.deploy(workspace=ws,\n",
    "                       name='service',\n",
    "                       models=[registered_model],\n",
    "                       inference_config=inference_config,\n",
    "                       deployment_config=aci_config,\n",
    "                       overwrite=True,\n",
    "                       )"
   ]
  },
  {
   "cell_type": "code",
   "execution_count": 53,
   "metadata": {},
   "outputs": [
    {
     "name": "stdout",
     "output_type": "stream",
     "text": [
      "ACI service creation operation finished, operation \"Succeeded\"\n"
     ]
    }
   ],
   "source": [
    "service.wait_for_deployment()\n",
    "\n",
    "scoring_uri = service.scoring_uri\n",
    "\n",
    "scoreuri = json.dumps({\"URI\": [scoring_uri]})\n",
    "file = open(\"uri.json\", \"w\")\n",
    "file.write(scoreuri)\n",
    "file.close()"
   ]
  }
 ],
 "metadata": {
  "kernelspec": {
   "display_name": "venv",
   "language": "python",
   "name": "python3"
  },
  "language_info": {
   "codemirror_mode": {
    "name": "ipython",
    "version": 3
   },
   "file_extension": ".py",
   "mimetype": "text/x-python",
   "name": "python",
   "nbconvert_exporter": "python",
   "pygments_lexer": "ipython3",
   "version": "3.9.21"
  }
 },
 "nbformat": 4,
 "nbformat_minor": 2
}
